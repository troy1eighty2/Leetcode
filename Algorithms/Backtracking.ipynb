{
 "cells": [
  {
   "cell_type": "markdown",
   "metadata": {},
   "source": [
    "**Algorithm:**\n",
    "1. Start from a state\n",
    "2. If state is solution, add current state to result\n",
    "3. if not, try each of possible moves from current state\n",
    "4. Once we have tried all the possible moves, backtrack to the previous state\n",
    "5. Repeat above steps until a solution is found or all possibilities have been exhausted\n",
    "\n",
    "**TC/SC**\n"
   ]
  }
 ],
 "metadata": {
  "language_info": {
   "name": "python"
  },
  "orig_nbformat": 4
 },
 "nbformat": 4,
 "nbformat_minor": 2
}
