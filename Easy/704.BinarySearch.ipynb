{
 "cells": [
  {
   "cell_type": "markdown",
   "metadata": {},
   "source": [
    "**Problem:**\n",
    "Given sorted int array `nums` and int `target`, look for target and return its index. Else, return -1\n",
    "\n",
    "Must be O(logn) TC\n",
    "\n",
    "**Approach:**\n",
    "- whenever you see a \"search\" problem in a sorted array, the solution is bsearch\n",
    "- similar to two pointer approach, increment l or r pointer based on the result of the operation, (in this case its a search)\n",
    "1. l, r pointer at respective ends.\n",
    "2. while l <= r, m = (r + l) // 2, if `nums[m] == target`, return indices. else if `nums[m] < target` l = m + 1, else if `nums[m] > target` r = m - 1\n",
    "\n",
    "**TC/SC:**\n",
    "O(logn)/O(1)\n",
    "- by continously splitting `nums` to find the answer and reducing our answers choices by half each time O(n)\n",
    "\n",
    "- ierations done over `nums` cost no extra space O(1)"
   ]
  },
  {
   "cell_type": "code",
   "execution_count": null,
   "metadata": {},
   "outputs": [],
   "source": [
    "class Solution:\n",
    "    def search(self, nums: List[int], target: int) -> int:\n",
    "        l, r = 0, len(nums) - 1\n",
    "        while l <= r:\n",
    "            m = (l + r) // 2\n",
    "            if nums[m] == target:\n",
    "                return m\n",
    "            if nums[m] < target:\n",
    "                l = m + 1\n",
    "            else:\n",
    "                r = m - 1\n",
    "        return -1"
   ]
  }
 ],
 "metadata": {
  "language_info": {
   "name": "python"
  }
 },
 "nbformat": 4,
 "nbformat_minor": 2
}
