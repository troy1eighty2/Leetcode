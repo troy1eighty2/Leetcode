{
 "cells": [
  {
   "cell_type": "markdown",
   "metadata": {},
   "source": [
    "**Problem:**\n",
    "Give str `s`, is `s` with all alnum char a palindrome?\n",
    "\n",
    "**Approach:**\n",
    "- create new str to be tested by using `isalnum()` to remove all non alnum char\n",
    "- two pointers from both ends of str to continuously find whether or not ==\n",
    "\n",
    "**TC/SC:**\n",
    "O(n)/O(n)\n",
    "- creating new alnum str is O(n)\n",
    "- `while l <= r:` gives tc of O(logn)\n",
    "- returning `True` or `False` takes O(1)\n",
    "\n",
    "- new alnum str len dependent on len input O(n)"
   ]
  },
  {
   "cell_type": "code",
   "execution_count": null,
   "metadata": {},
   "outputs": [],
   "source": [
    "class Solution:\n",
    "    def isPalindrome(self, s: str) -> bool:\n",
    "        s_alnum = \"\"\n",
    "        for n in s:\n",
    "            if n.isalnum():\n",
    "                s_alnum += n.lower()\n",
    "        l, r = 0, len(s_alnum) - 1\n",
    "        while l <= r:\n",
    "            if s_alnum[l] == s_alnum[r]:\n",
    "                l += 1\n",
    "                r -= 1\n",
    "            else:\n",
    "                return False\n",
    "        return True"
   ]
  }
 ],
 "metadata": {
  "language_info": {
   "name": "python"
  },
  "orig_nbformat": 4
 },
 "nbformat": 4,
 "nbformat_minor": 2
}
