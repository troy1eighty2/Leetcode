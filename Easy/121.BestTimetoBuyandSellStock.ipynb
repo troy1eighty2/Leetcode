{
 "cells": [
  {
   "cell_type": "markdown",
   "metadata": {},
   "source": [
    "**Problem**\n",
    "Given array of `prices`, what is the best time to buy and sell stock? Return max profit.\n",
    "\n",
    "**Approach:**\n",
    "- sliding window\n",
    "- since time only moves in one direction, l will buy, r will sell\n",
    "- ierate right pointer, calculate `prices[r] - prices[l]` to get profit to compare with curr max profit, update r if `prices[r]` has a lower buying price than `prices[l]`\n",
    "\n",
    "**TC/SC:**\n",
    "O(n)/O(1)\n",
    "- iterating thru `prices` with r will be O(n)\n",
    "\n",
    "- iteration is done over input array so no extra space needed O(1)\n"
   ]
  },
  {
   "cell_type": "code",
   "execution_count": null,
   "metadata": {},
   "outputs": [],
   "source": [
    "class Solution:\n",
    "    def maxProfit(self, prices: List[int]) -> int:\n",
    "        l, r = 0, 1\n",
    "        maxProfit = 0\n",
    "        while r < len(prices):\n",
    "            if prices[l] < prices[r]:\n",
    "                profit = prices[r] - prices[l]\n",
    "                maxProfit = max(maxProfit, profit)\n",
    "            else:\n",
    "                l = r\n",
    "            r += 1\n",
    "        return maxProfit"
   ]
  }
 ],
 "metadata": {
  "language_info": {
   "name": "python"
  }
 },
 "nbformat": 4,
 "nbformat_minor": 2
}
