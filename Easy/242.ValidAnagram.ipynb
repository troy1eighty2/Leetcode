{
 "cells": [
  {
   "cell_type": "markdown",
   "metadata": {},
   "source": [
    "**Problem:**\n",
    "Given strs `s` and `t` return `true` if they are anagrams, else return `false`.\n",
    "\n",
    "**Approach:**\n",
    "- sorted anagram will be ==\n",
    "- `if sorted(s) != sorted(t): return True`\n",
    "\n",
    "**TC/SC:**\n",
    "O(nLogn)/O(n)\n",
    "- `sorted(s)` dominated mergesort->timsort\n",
    "- `sorted()` creates new list"
   ]
  },
  {
   "cell_type": "code",
   "execution_count": null,
   "metadata": {},
   "outputs": [],
   "source": [
    "class Solution:\n",
    "    def isAnagram(self, s: str, t: str) -> bool:\n",
    "        if sorted(s) == sorted(t): return True"
   ]
  }
 ],
 "metadata": {
  "language_info": {
   "name": "python"
  },
  "orig_nbformat": 4
 },
 "nbformat": 4,
 "nbformat_minor": 2
}
