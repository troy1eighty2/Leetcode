{
 "cells": [
  {
   "cell_type": "markdown",
   "metadata": {
    "tags": []
   },
   "source": [
    "**Problem:**\n",
    "Given int array `nums` and int `target`, return the indices of 2 numbers so they add up to `target`\n",
    "\n",
    "**Approach:**\n",
    "- for n in `nums` if `target - n` in `dict`, return `[dict[target - n], i]`\n",
    "- else add to `dict`\n",
    "\n",
    "**TC/SC:**\n",
    "O(n)/O(n)\n",
    "- iterate thru `nums` array\n",
    "- create new `dict` ds"
   ]
  },
  {
   "cell_type": "code",
   "execution_count": null,
   "metadata": {
    "tags": []
   },
   "outputs": [],
   "source": [
    "class Solution:\n",
    "    def twoSum(self, nums: List[int], target: int) -> List[int]:\n",
    "        dict = {}\n",
    "\n",
    "        for i, n in enumerate(nums):\n",
    "            if target-n in dict:\n",
    "                return [dict[target-n], i]\n",
    "            dict[n] = i"
   ]
  }
 ],
 "metadata": {
  "language_info": {
   "name": "python"
  },
  "orig_nbformat": 4
 },
 "nbformat": 4,
 "nbformat_minor": 2
}
