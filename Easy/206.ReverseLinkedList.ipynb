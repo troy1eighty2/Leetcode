{
 "cells": [
  {
   "cell_type": "markdown",
   "metadata": {},
   "source": [
    "**Problem**\n",
    "Given a `head`, reverse the linked list\n",
    "\n",
    "**Approach:**\n",
    "- use three pointers, one gives the current node being proccessed, one gives the next node so we don't lose track of our linked list, one gives the previous node so we can hook it up. \n",
    "- creation of `prev = None` is outside the while loop to account for the first step\n",
    "1. set new `tmp` while we have access to curr\n",
    "2. connect `curr` to `prev`\n",
    "3. move `prev` to `curr`\n",
    "4. move `curr` to `tmp`\n",
    "\n",
    "**TC/SC:**\n",
    "O(n)/O(1)\n",
    "- iterates thru n number nodes\n",
    "\n",
    "- no new space created\n"
   ]
  },
  {
   "cell_type": "code",
   "execution_count": null,
   "metadata": {},
   "outputs": [],
   "source": [
    "# Definition for singly-linked list.\n",
    "# class ListNode:\n",
    "#     def __init__(self, val=0, next=None):\n",
    "#         self.val = val\n",
    "#         self.next = next\n",
    "class Solution:\n",
    "    def reverseList(self, head: Optional[ListNode]) -> Optional[ListNode]:\n",
    "        prev = None\n",
    "        while head:\n",
    "            tmp = head.next\n",
    "            head.next = prev\n",
    "            prev = head\n",
    "            head = tmp\n",
    "        return prev"
   ]
  }
 ],
 "metadata": {
  "language_info": {
   "name": "python"
  }
 },
 "nbformat": 4,
 "nbformat_minor": 2
}
