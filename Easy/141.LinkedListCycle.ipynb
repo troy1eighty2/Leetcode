{
 "cells": [
  {
   "cell_type": "markdown",
   "metadata": {},
   "source": [
    "**Problem**\n",
    "Given the `head` of a linked list, if it has a cycle, return `True`, else, return False \n",
    "\n",
    "**Approach:**\n",
    "- Fast and slow pointer technique\n",
    "- Used to find the middle of linked list, detect cycles, detect nth node from the end of the list\n",
    "1. let `slow, fast = head, head` \n",
    "2. probe for the ending of the list\n",
    "3. if `fast` and slow meet, there is a cycle\n",
    "\n",
    "**TC/SC:**\n",
    "O(n)/O(1)\n",
    "- worst case scenario traverse the length of the list\n",
    "\n",
    "- no new space being made other than for fast and slow pointers\n"
   ]
  },
  {
   "cell_type": "code",
   "execution_count": null,
   "metadata": {},
   "outputs": [],
   "source": [
    "class Solution:\n",
    "    def hasCycle(self, head: Optional[ListNode]) -> bool:\n",
    "        if not head or not head.next:\n",
    "            return False\n",
    "        \n",
    "        fast, slow = head, head\n",
    "        while fast.next and fast.next.next and slow.next:\n",
    "            fast = fast.next.next\n",
    "            slow = slow.next\n",
    "            if fast == slow:\n",
    "                return True\n",
    "        return False"
   ]
  }
 ],
 "metadata": {
  "language_info": {
   "name": "python"
  }
 },
 "nbformat": 4,
 "nbformat_minor": 2
}
