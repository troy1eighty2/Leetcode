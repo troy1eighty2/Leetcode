{
 "cells": [
  {
   "cell_type": "markdown",
   "metadata": {},
   "source": [
    "**Problem:**\n",
    "Given string `s` containing just (, {, [, ], }, ), check if they are valid parentheses.\n",
    "\n",
    "**Approach:**\n",
    "- Most recently opened [, {, (, must be the first to be closed.\n",
    "- stack to achieve a certain order (LIFO)\n",
    "\n",
    "**TC/SC:**\n",
    "O(n)/ O(n)\n",
    "- creating new deque and dict takes O(1)\n",
    "- iterate thru s for O(n), checking `dict`, popping, return boolean all take O(1)\n",
    "\n",
    "- stack to solve problem is O(n) size\n",
    "- `dict` is O(1)"
   ]
  },
  {
   "cell_type": "code",
   "execution_count": null,
   "metadata": {},
   "outputs": [],
   "source": []
  }
 ],
 "metadata": {
  "language_info": {
   "name": "python"
  },
  "orig_nbformat": 4
 },
 "nbformat": 4,
 "nbformat_minor": 2
}
