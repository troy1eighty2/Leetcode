{
 "cells": [
  {
   "cell_type": "markdown",
   "metadata": {},
   "source": [
    "**Problem**\n",
    "Given the `head` of two sorted linked lists, return one sorted list.\n",
    "\n",
    "**Approach:**\n",
    "1. perform a bunch of base case checks\n",
    "    1. are either of them zero? if so, return the other list\n",
    "    2. set the head of the res list as the list with the smaller val head.\n",
    "2. splice nodes together until getting to the end of either list\n",
    "3. connect the leftover list to the main list   \n",
    "**TC/SC:**\n",
    "O(n + k)/O(1)\n",
    "- tc depends on the length of the first input array and the second input array, which will both have to be iterated thru O(n + k)\n",
    "- no new space is being created, the lists are being created in place\n",
    "\n"
   ]
  },
  {
   "cell_type": "code",
   "execution_count": null,
   "metadata": {},
   "outputs": [],
   "source": [
    "# Definition for singly-linked list.\n",
    "# class ListNode:\n",
    "#     def __init__(self, val=0, next=None):\n",
    "#         self.val = val\n",
    "#         self.next = next\n",
    "class Solution:\n",
    "    def mergeTwoLists(self, list1: Optional[ListNode], list2: Optional[ListNode]) -> Optional[ListNode]:\n",
    "        if not list1:\n",
    "            return list2\n",
    "        if not list2:\n",
    "            return list1\n",
    "        if list1.val <= list2.val:\n",
    "            head = list1\n",
    "            list1 = list1.next\n",
    "        else:\n",
    "            head = list2\n",
    "            list2 = list2.next\n",
    "        curr = head\n",
    "        while list1 and list2:\n",
    "            if list1.val <= list2.val:\n",
    "                curr.next = list1\n",
    "                curr = curr.next\n",
    "                list1 = list1.next\n",
    "            else:\n",
    "                curr.next = list2\n",
    "                curr = curr.next\n",
    "                list2 = list2.next\n",
    "        if not list1:\n",
    "            curr.next = list2    \n",
    "        if not list2:\n",
    "            curr.next = list1    \n",
    "        return head"
   ]
  }
 ],
 "metadata": {
  "language_info": {
   "name": "python"
  }
 },
 "nbformat": 4,
 "nbformat_minor": 2
}
