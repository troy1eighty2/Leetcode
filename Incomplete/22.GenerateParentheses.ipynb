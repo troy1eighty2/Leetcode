{
 "cells": [
  {
   "cell_type": "markdown",
   "metadata": {},
   "source": [
    "**Problem:**\n",
    "Given `n` pair of parentheses, write a function to generate all combinations of well formed parentheses.\n",
    "**Approach:**\n",
    "- backtracking to generate all possible well formed parentheses.\n",
    "1. start from a state\n",
    "2. if it is a solution, add it to the result | `(if openN == closedN == n:)`\n",
    "3. if not, try the other steps | `(if openN < n:)` or `(if closedN < openN:)`\n",
    "4. Once all possible moves have been tried | `backtrack(openN + 1, closedN)` or `backtrack(openN, closedN + 1)` pop() to backtrack\n",
    "5. Repeat until exhausted \n",
    "\n",
    "**TC/SC:**\n",
    "O()/O()"
   ]
  },
  {
   "cell_type": "code",
   "execution_count": null,
   "metadata": {},
   "outputs": [],
   "source": [
    "class Solution:\n",
    "    def generateParenthesis(self, n: int) -> List[str]:\n",
    "        # only add open parenthesis if open < n\n",
    "        # only add closed parenthesis if closed < open\n",
    "        # well-formed if n == open == closed\n",
    "        stack = []\n",
    "        res = []\n",
    "        def backtrack(openN, closedN):\n",
    "            if openN == closedN == n:\n",
    "                res.append(\"\".join(stack))\n",
    "                return\n",
    "            if openN < n:\n",
    "                stack.append(\"(\")\n",
    "                backtrack(openN + 1, closedN)\n",
    "                stack.pop()\n",
    "            if closedN < openN:\n",
    "                stack.append(\")\")\n",
    "                backtrack(openN, closedN + 1)\n",
    "                stack.pop()\n",
    "        backtrack(0, 0)\n",
    "        return res"
   ]
  }
 ],
 "metadata": {
  "language_info": {
   "name": "python"
  },
  "orig_nbformat": 4
 },
 "nbformat": 4,
 "nbformat_minor": 2
}
