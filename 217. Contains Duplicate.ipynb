{
 "cells": [
  {
   "cell_type": "markdown",
   "metadata": {},
   "source": [
    "**Problem:**\n",
    "Given int array nums, return true if there is a dupe element in the array. Return false if every element distinct.\n",
    "\n",
    "Approach:\n",
    "set ds makes every element unique\n",
    "1.) set(nums)\n",
    "2.) compare len(set(nums)) to set(nums), if != return true\n",
    "\n",
    "TC/SC:\n",
    "O(N)/O(N)\n",
    "set(nums) dominated\n",
    "creates new nums set to be compared"
   ]
  },
  {
   "cell_type": "code",
   "execution_count": null,
   "metadata": {},
   "outputs": [],
   "source": [
    "class Solution(object):\n",
    "    def containsDuplicate(self, nums):\n",
    "        if len(set(nums)) != len(nums): return True"
   ]
  }
 ],
 "metadata": {
  "kernelspec": {
   "display_name": "Python 3",
   "language": "python",
   "name": "python3"
  },
  "language_info": {
   "codemirror_mode": {
    "name": "ipython",
    "version": 3
   },
   "file_extension": ".py",
   "mimetype": "text/x-python",
   "name": "python",
   "nbconvert_exporter": "python",
   "pygments_lexer": "ipython3",
   "version": "3.11.5"
  },
  "orig_nbformat": 4
 },
 "nbformat": 4,
 "nbformat_minor": 2
}
