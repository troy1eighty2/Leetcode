{
 "cells": [
  {
   "cell_type": "markdown",
   "metadata": {},
   "source": [
    "**Problem:**\n",
    "Two sum but the array is sorted.\n",
    "\n",
    "O(1) space\n",
    "\n",
    "**Approach:**\n",
    "- l,r pointers being advanced from both sides of the array\n",
    "- if `numbers[l] + numbers[r] <= target`, ++ left pointer to make sum bigger\n",
    "- if `numbers[l] + numbers[r] > target`, -- right pointer to make sum smaller\n",
    "- `return [l + 1, r + 1]` because one-based array on this problem\n",
    "\n",
    "**TC/SC:**\n",
    "O(n)/O(1)\n",
    "- increment thru entire array once\n",
    "\n",
    "- all operations are done on the input array"
   ]
  },
  {
   "cell_type": "code",
   "execution_count": null,
   "metadata": {},
   "outputs": [],
   "source": [
    "class Solution:\n",
    "    def twoSum(self, numbers: List[int], target: int) -> List[int]:\n",
    "        l, r = 0, len(numbers) - 1\n",
    "        while l <= r:\n",
    "            if numbers[l] + numbers[r] == target:\n",
    "                return [l + 1, r + 1]\n",
    "            elif numbers[l] + numbers[r] <= target:\n",
    "                l += 1\n",
    "            else:\n",
    "                r -= 1"
   ]
  }
 ],
 "metadata": {
  "language_info": {
   "name": "python"
  },
  "orig_nbformat": 4
 },
 "nbformat": 4,
 "nbformat_minor": 2
}
