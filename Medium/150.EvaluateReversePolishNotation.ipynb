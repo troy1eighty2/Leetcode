{
 "cells": [
  {
   "cell_type": "markdown",
   "metadata": {},
   "source": [
    "**Problem:**\n",
    "Evaluate reverse polish notation given an array of `tokens`\n",
    "\n",
    "- operators are +. -, *, /\n",
    "- division truncates towards 0\n",
    "- input is always valid rpn\n",
    "\n",
    "**Approach:**\n",
    "- iterate thru `tokens` and appending numbers and popping twice to operate on them\n",
    "\n",
    "1. Make a new stack\n",
    "2. iterate thru the `tokens`\n",
    "    - if number, `stack.append(int(n))`\n",
    "    - if operator, pop two from stack to operate on them\n",
    "    - make sure division returns an int\n",
    "3. return top of stack (should only be one item)\n",
    "\n",
    "**TC/SC:**\n",
    "O(n)/O(n)\n",
    "- must iterate thru the tokens array\n",
    "- must create a new stack that in a worst case scenario have the same length as `tokens`"
   ]
  },
  {
   "cell_type": "code",
   "execution_count": null,
   "metadata": {},
   "outputs": [],
   "source": [
    "class Solution:\n",
    "    def evalRPN(self, tokens: List[str]) -> int:\n",
    "        stack = deque([])\n",
    "        for n in tokens:\n",
    "            if n in {\"+\", \"-\", \"*\", \"/\"}:\n",
    "                a = stack.pop()\n",
    "                b = stack.pop()\n",
    "                if n == \"+\":\n",
    "                    stack.append(b + a)\n",
    "                elif n == \"-\":\n",
    "                    stack.append(b - a)\n",
    "                elif n == \"*\":\n",
    "                    stack.append(b * a)\n",
    "                elif n == \"/\":\n",
    "                    stack.append(int(b / a))\n",
    "            else:\n",
    "                stack.append(int(n))\n",
    "        return stack[-1]"
   ]
  }
 ],
 "metadata": {
  "language_info": {
   "name": "python"
  },
  "orig_nbformat": 4
 },
 "nbformat": 4,
 "nbformat_minor": 2
}
