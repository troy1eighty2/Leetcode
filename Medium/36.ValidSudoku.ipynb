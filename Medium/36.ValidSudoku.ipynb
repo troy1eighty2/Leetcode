{
 "cells": [
  {
   "cell_type": "markdown",
   "metadata": {},
   "source": [
    "**Problem:**\n",
    "Valid Sudoku?\n",
    "\n",
    "**Approach:**\n",
    "- `defaultdict(list)`-> [][][]...\n",
    "` iterate thru every elem of 2d matrix\n",
    "1. if dne, append\n",
    "2. else return FaLse\n",
    "- box is calculated using a tuple of (x // 3, y // 3)\n",
    "\n",
    "\n",
    "**TC/SC:**\n",
    "O(1)/O(1)\n",
    "- fixed size 2D array\n",
    "\n",
    "- same length output for every answer\n"
   ]
  },
  {
   "cell_type": "code",
   "execution_count": null,
   "metadata": {},
   "outputs": [],
   "source": [
    "class Solution:\n",
    "    def isValidSudoku(self, board: List[List[str]]) -> bool:\n",
    "        row = defaultdict(list)\n",
    "        col = defaultdict(list)\n",
    "        box = defaultdict(list)\n",
    "\n",
    "        for x in range(len(board)):\n",
    "            for y in range(len(board)):\n",
    "                if board[x][y] == '.':\n",
    "                    continue\n",
    "                if board[x][y] not in row[x]:\n",
    "                    row[x].append(board[x][y])\n",
    "                else:\n",
    "                    return False\n",
    "                if board[x][y] not in col[y]:\n",
    "                    col[y].append(board[x][y])\n",
    "                else:\n",
    "                    return False\n",
    "                if board[x][y] not in box[(x//3, y//3)]:\n",
    "                    box[(x//3, y//3)].append(board[x][y])\n",
    "                else:\n",
    "                    return False\n",
    "        return True"
   ]
  }
 ],
 "metadata": {
  "language_info": {
   "name": "python"
  },
  "orig_nbformat": 4
 },
 "nbformat": 4,
 "nbformat_minor": 2
}
