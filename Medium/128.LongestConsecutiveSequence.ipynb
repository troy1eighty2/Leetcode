{
 "cells": [
  {
   "cell_type": "markdown",
   "metadata": {},
   "source": [
    "**Problem:**\n",
    "Given an unsorted int array `nums`, return the length of the longest consecutive sequence of numbers\n",
    "\n",
    "Must be in O(n) TC\n",
    "\n",
    "**Approach:**\n",
    "- if (n - 1) dne, it is the beginning of a sequence\n",
    "- from there, count the number of consecutive elements n has and `max()` to compare it to sequences previously discovered\n",
    "\n",
    "**TC/SC:**\n",
    "O(n)/O(n)\n",
    "- `set()` operation is O(n)\n",
    "- iteration thru numsSet is O(n)\n",
    "- while is built off set lookups O(1)\n",
    "- max() is O(1)\n",
    "\n",
    "- numsSet built with len == len(nums), O(n)"
   ]
  },
  {
   "cell_type": "code",
   "execution_count": null,
   "metadata": {},
   "outputs": [],
   "source": [
    "class Solution:\n",
    "    def longestConsecutive(self, nums: List[int]) -> int:\n",
    "        numsSet = set(nums)\n",
    "        longest = 0\n",
    "        length = 0\n",
    "        for n in numsSet:\n",
    "            if (n - 1) not in numsSet:\n",
    "                length = 0\n",
    "                while (n + length) in numsSet:\n",
    "                    length += 1\n",
    "                longest = max(longest, length)\n",
    "        return longest"
   ]
  }
 ],
 "metadata": {
  "language_info": {
   "name": "python"
  },
  "orig_nbformat": 4
 },
 "nbformat": 4,
 "nbformat_minor": 2
}
