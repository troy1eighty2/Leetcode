{
 "cells": [
  {
   "cell_type": "markdown",
   "metadata": {},
   "source": [
    "**Problem:**\n",
    "Design a stack that pushes, pops, tops, and minelement in constant time\n",
    "\n",
    "`MinStack()` initializes stack\n",
    "`void push(int val)` pushes `val` onto stack\n",
    "`void pop()` pops stack\n",
    "`int top()` gets top\n",
    "`int getMin()` gets min value of stack\n",
    "\n",
    "**Approach:**\n",
    "- all stack ops are usually in O(1) time expect for getMin()\n",
    "- use two stacks, one is `stack()` and other is `minStack`\n",
    "1. initialize both\n",
    "2. push to `stack()`, push to `minStack()` `min(val, self.minStack(-1))` only if minStack has an element in it\n",
    "3. pop from both\n",
    "4. top from either to either `top()` or `getMin()`\n",
    "\n",
    "- **`self.stack` and `self.minStack` when referring to the instance of the class within itself**\n",
    "- **by using `self.stack` you creating instance variable `stack` then belongs to object created from `minStack` class to be accessible within different methods of the class**\n",
    "\n",
    "**TC/SC:**\n",
    "O(1)/O(n)\n",
    "- nature of the problem is to try and make all these operations constant time\n",
    "\n",
    "- two stacks are created and their length with be == len(input)"
   ]
  },
  {
   "cell_type": "code",
   "execution_count": null,
   "metadata": {},
   "outputs": [],
   "source": [
    "class MinStack:\n",
    "    def __init__(self):\n",
    "        self.stack = []\n",
    "        self.minstack = []\n",
    "\n",
    "    def push(self, val: int) -> None:\n",
    "        self.stack.append(val)\n",
    "        if self.minstack:\n",
    "            minval = min(val, self.minstack[-1])\n",
    "            self.minstack.append(minval)\n",
    "        else:\n",
    "            self.minstack.append(val)\n",
    "        \n",
    "    def pop(self) -> None:\n",
    "        self.stack.pop()\n",
    "        self.minstack.pop()\n",
    "\n",
    "    def top(self) -> int:\n",
    "        return self.stack[-1]\n",
    "\n",
    "    def getMin(self) -> int:\n",
    "        return self.minstack[-1]\n",
    "        \n",
    "# Your MinStack object will be instantiated and called as such:\n",
    "# obj = MinStack()\n",
    "# obj.push(val)\n",
    "# obj.pop()\n",
    "# param_3 = obj.top()\n",
    "# param_4 = obj.getMin()"
   ]
  }
 ],
 "metadata": {
  "language_info": {
   "name": "python"
  },
  "orig_nbformat": 4
 },
 "nbformat": 4,
 "nbformat_minor": 2
}
