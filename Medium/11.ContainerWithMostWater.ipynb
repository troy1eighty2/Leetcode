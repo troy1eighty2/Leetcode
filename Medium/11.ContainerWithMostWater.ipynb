{
 "cells": [
  {
   "cell_type": "markdown",
   "metadata": {},
   "source": [
    "**Problem:**\n",
    "Given an int array of `heights`, return the most amount of water able to be contained. Container cannot be slanted.\n",
    "\n",
    "![Alt text](image-2.png)\n",
    "\n",
    "**Approach:**\n",
    "- two pointers from either side sweeping through array while l < r\n",
    "- calculate volume by taking the min (container can't be slanted) of `height[l]` and `height[r]` and multiplying it by r - l\n",
    "- update maxvolume with max(maxvolume, volume)\n",
    "\n",
    "**TC/SC:**\n",
    "O(n)/O(1)\n",
    "- sweep thru the `heights`, going over every element only once, O(n)\n",
    "\n",
    "- sweeping done over `heights` with no new ds being created, O(1)"
   ]
  },
  {
   "cell_type": "code",
   "execution_count": null,
   "metadata": {},
   "outputs": [],
   "source": [
    "class Solution:\n",
    "    def maxArea(self, height: List[int]) -> int:\n",
    "        l, r = 0, len(height) - 1\n",
    "        maxvolume = 0\n",
    "        while l < r:\n",
    "            shortest = min(height[l], height[r])\n",
    "            volume = shortest * (r - l)\n",
    "            maxvolume = max(maxvolume, volume)\n",
    "            if height[l] < height[r]:\n",
    "                l += 1\n",
    "            else:\n",
    "                r -= 1\n",
    "        return maxvolume"
   ]
  }
 ],
 "metadata": {
  "language_info": {
   "name": "python"
  },
  "orig_nbformat": 4
 },
 "nbformat": 4,
 "nbformat_minor": 2
}
