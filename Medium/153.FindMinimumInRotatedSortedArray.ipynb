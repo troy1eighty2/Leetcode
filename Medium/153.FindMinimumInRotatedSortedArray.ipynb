{
 "cells": [
  {
   "cell_type": "markdown",
   "metadata": {},
   "source": [
    "**Problem**\n",
    "Given rotated increasing int array `nums`, return the minumum element of the array.\n",
    "\n",
    "**Approach:**\n",
    "- bsearch whenever thinking about logn search solutions in sorted arrays\n",
    "- m will be compared to min\n",
    "- think of array as two seperate sorted arrays\n",
    "1. calculate m\n",
    "2. if `nums[l]` < `nums[r]`, we are in a properly sorted array; return the left most value = the smallest value\n",
    "3. else, lessen the scope to either the left array or the right array by moving pointers \n",
    "\n",
    "**TC/SC:**\n",
    "O(logn)/O(1)\n",
    "- bsearching will take O(logn)\n",
    "\n",
    "- no new space was created"
   ]
  },
  {
   "cell_type": "code",
   "execution_count": null,
   "metadata": {},
   "outputs": [],
   "source": [
    "class Solution:\n",
    "    def findMin(self, nums: List[int]) -> int:\n",
    "        l, r = 0, len(nums) - 1\n",
    "        res = nums[l]\n",
    "        while l <= r:\n",
    "            m = (l + r) // 2\n",
    "            res = min(res, nums[m])\n",
    "            if nums[l] <= nums[r]:\n",
    "                return min(res, nums[l])\n",
    "            if nums[m] >= nums[r]:\n",
    "                l = m + 1\n",
    "            else:\n",
    "                r = m - 1\n",
    "        return res"
   ]
  }
 ],
 "metadata": {
  "language_info": {
   "name": "python"
  }
 },
 "nbformat": 4,
 "nbformat_minor": 2
}
