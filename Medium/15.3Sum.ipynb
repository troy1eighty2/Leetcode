{
 "cells": [
  {
   "cell_type": "markdown",
   "metadata": {},
   "source": [
    "**Problem:**\n",
    "Given an int array `nums`, return all the triplets that add up to 0.\n",
    "\n",
    "No duplicates.\n",
    "\n",
    "**Approach:**\n",
    "- a sorted two sum lets you use two pointers to find solution\n",
    "- `for n in range(len)`, use n as the third summing element, and within the for loop run two pointers from either side of array to find two sum\n",
    "- increment l if < 0, decrement r if > 0\n",
    "\n",
    "**- avoid duplicate elements by `while nums[l] == nums[l - 1] and l < r` and is not first element of `nums`, increment l again**\n",
    "\n",
    "**TC/SC:**\n",
    "O(n^2)/O(n)\n",
    "- within the for loop O(n), pointers are being run along `nums` to twosum, O(n^2)\n",
    "\n",
    "- `sorted()` makes a new ds with size O(n)"
   ]
  },
  {
   "cell_type": "code",
   "execution_count": null,
   "metadata": {},
   "outputs": [],
   "source": [
    "class Solution:\n",
    "    def threeSum(self, nums: List[int]) -> List[List[int]]:\n",
    "        res = []\n",
    "        nums = sorted(nums)\n",
    "        for n in range(len(nums)):\n",
    "            l, r = n + 1, len(nums) - 1\n",
    "            if n > 0 and nums[n] == nums[n - 1]:\n",
    "                continue\n",
    "            while l < r:\n",
    "                threesum = nums[n] + nums[l] + nums[r]\n",
    "                if threesum < 0:\n",
    "                    l += 1\n",
    "                elif threesum > 0:\n",
    "                    r -= 1\n",
    "                else:\n",
    "                    res.append([nums[n], nums[l], nums[r]])\n",
    "                    l += 1\n",
    "                    while nums[l] == nums[l - 1] and l < r:\n",
    "                        l += 1\n",
    "        return res"
   ]
  }
 ],
 "metadata": {
  "language_info": {
   "name": "python"
  },
  "orig_nbformat": 4
 },
 "nbformat": 4,
 "nbformat_minor": 2
}
