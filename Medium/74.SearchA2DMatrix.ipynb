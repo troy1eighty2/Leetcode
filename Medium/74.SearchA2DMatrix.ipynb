{
 "cells": [
  {
   "cell_type": "markdown",
   "metadata": {},
   "source": [
    "**Problem**\n",
    "Given an m by n int `matrix` and int `target` with the following given properties:\n",
    "- Each row is sorted in increasing\n",
    "- first int of each row is greater than the last int of the previous row\n",
    "Return `True` if `target` is in matrix, else, return `False`\n",
    "\n",
    "\n",
    "**Approach:**\n",
    "- Everytime we see searching from sorted array, we think b-search for logn tc\n",
    "- two independent bsearch, one for the rows and one for the item inside the row\n",
    "\n",
    "- **on the first bsearch, check if item is within the row; if it is in the row, you may proceed to next bsearch**\n",
    "\n",
    "**TC/SC:**\n",
    "O(log(n * m))/O(1)\n",
    "- bsearching the rows will take logn, bsearching the element within the row will take logm, therefore O(log(m * n))\n",
    "\n",
    "- no new space made"
   ]
  },
  {
   "cell_type": "code",
   "execution_count": null,
   "metadata": {},
   "outputs": [],
   "source": [
    "class Solution:\n",
    "    def searchMatrix(self, matrix: List[List[int]], target: int) -> bool:\n",
    "        x = len(matrix[0])\n",
    "        y = len(matrix)\n",
    "        l, r = 0, y - 1\n",
    "        while l <= r:\n",
    "            m = (l + r) // 2\n",
    "            if matrix[m][0] <= target and matrix[m][-1] >= target:\n",
    "                break\n",
    "            if matrix[m][0] < target:\n",
    "                l = m + 1\n",
    "            else:\n",
    "                r = m - 1\n",
    "        line = m\n",
    "        l, r = 0, x - 1\n",
    "        while l <= r:\n",
    "            m = (l + r) // 2\n",
    "            if matrix[line][m] == target:\n",
    "                return True\n",
    "            if matrix[line][m] < target:\n",
    "                l = m + 1\n",
    "            else:\n",
    "                r = m - 1\n",
    "        return False"
   ]
  }
 ],
 "metadata": {
  "language_info": {
   "name": "python"
  }
 },
 "nbformat": 4,
 "nbformat_minor": 2
}
