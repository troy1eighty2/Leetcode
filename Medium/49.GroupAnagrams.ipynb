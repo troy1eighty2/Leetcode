{
 "cells": [
  {
   "cell_type": "markdown",
   "metadata": {},
   "source": [
    "**Problem:**\n",
    "Given array of `strs`, group the anagrams together and return them in a list\n",
    "\n",
    "**Approach:**\n",
    "- iterate thru str array, checking to see if `sorted(n)` is in dict\n",
    "    - if not in `dict`, add it with list as `val`, else append to list\n",
    "\n",
    "**TC/SC:**\n",
    "O(n*mlogm)/O(n + m)\n",
    "-iteration thru `strs` array is n\n",
    "-sorting each element of array is mlogm\n",
    "\n",
    "-len of `dict` is n\n",
    "-len of new sorted key is m"
   ]
  },
  {
   "cell_type": "code",
   "execution_count": null,
   "metadata": {},
   "outputs": [],
   "source": [
    "class Solution:\n",
    "    def groupAnagrams(self, strs: List[str]) -> List[List[str]]:\n",
    "        dict = {}\n",
    "        for n in strs:\n",
    "            key = str(sorted(n))\n",
    "            if key in dict:\n",
    "                dict[key].append(n)\n",
    "            else:\n",
    "                dict[key] = [n]\n",
    "        return dict.values()"
   ]
  }
 ],
 "metadata": {
  "language_info": {
   "name": "python"
  },
  "orig_nbformat": 4
 },
 "nbformat": 4,
 "nbformat_minor": 2
}
