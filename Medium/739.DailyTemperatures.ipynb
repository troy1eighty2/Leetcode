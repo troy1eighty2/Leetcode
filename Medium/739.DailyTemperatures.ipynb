{
 "cells": [
  {
   "cell_type": "markdown",
   "metadata": {},
   "source": [
    "**Problem:**\n",
    "Given an array of int `temperatures`, return an array `res` such that `res[i]` == the amount of days until a higher temperature occurs. If no possible date, make it zero\n",
    "\n",
    "**Approach:**\n",
    "- Monotonic stack to find the next largest value, or in this case, temperature\n",
    "- initilize `res` with all zeroes\n",
    "- iterate thru temperatures once and push to stack. when new largest element appreas, pop from stack, find the difference in index and update res[i] accordingly\n",
    "\n",
    "**TC/SC:**\n",
    "O(n)/O(n)\n",
    "- creating new res array takes O(n) tc\n",
    "- stack could have worst case O(n) tc\n",
    "\n",
    "- the res array does not count in our answer\n",
    "- the stack could have worst case scenario O(n) sc"
   ]
  },
  {
   "cell_type": "code",
   "execution_count": null,
   "metadata": {},
   "outputs": [],
   "source": [
    "class Solution:\n",
    "    def dailyTemperatures(self, temperatures: List[int]) -> List[int]:\n",
    "        res = [0] * len(temperatures)\n",
    "        stack = deque([])\n",
    "        for i, n in enumerate(temperatures):\n",
    "            while stack and temperatures[i] > stack[-1][1]:\n",
    "                index = (stack.pop())[0]\n",
    "                res[index] = i - index\n",
    "            stack.append((i, n))\n",
    "        return res"
   ]
  }
 ],
 "metadata": {
  "language_info": {
   "name": "python"
  },
  "orig_nbformat": 4
 },
 "nbformat": 4,
 "nbformat_minor": 2
}
