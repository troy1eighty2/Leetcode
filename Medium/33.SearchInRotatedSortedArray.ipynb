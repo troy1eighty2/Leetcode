{
 "cells": [
  {
   "cell_type": "markdown",
   "metadata": {},
   "source": [
    "**Problem**\n",
    "Given a rotated sorted array `nums`, find and return the index of the int `target`.\n",
    "\n",
    "**Approach:**\n",
    "- bsearch whenever talking about sorted arrays\n",
    "- very structured and easy to understand problem\n",
    "- think about problem as two seperate sorted arrays, figure out whether or not target is in sorted array, move pointers accordingly\n",
    "1. calculate m\n",
    "2. if left is sorted array\n",
    "    - if target is in the left, move r, else move l\n",
    "3. if right is sorted array\n",
    "    - if target is in the right, move l, else move r\n",
    "\n",
    "- **checking for well-formed sorted arrays and whether or not target is in it is not done on the same level because a well-formed sorted array dones't mean that the target will be within it**\n",
    "\n",
    "**TC/SC:**\n",
    "O(logn)/O(1)\n",
    "- bsearch is O(logn)\n",
    "\n",
    "- no new space created"
   ]
  },
  {
   "cell_type": "code",
   "execution_count": null,
   "metadata": {},
   "outputs": [],
   "source": [
    "class Solution:\n",
    "    def search(self, nums: List[int], target: int) -> int:\n",
    "        l, r = 0, len(nums) - 1 \n",
    "        while l <= r:\n",
    "            m = (l + r) // 2\n",
    "            if nums[m] == target:\n",
    "                return m\n",
    "            if nums[l] <= nums[m]:\n",
    "                if nums[l] <= target < nums[m]:\n",
    "                    r = m - 1\n",
    "                else:\n",
    "                    l = m + 1\n",
    "            else:\n",
    "                if nums[m] < target <= nums[r]:\n",
    "                    l = m + 1\n",
    "                else:\n",
    "                    r = m - 1\n",
    "        return -1"
   ]
  }
 ],
 "metadata": {
  "language_info": {
   "name": "python"
  }
 },
 "nbformat": 4,
 "nbformat_minor": 2
}
