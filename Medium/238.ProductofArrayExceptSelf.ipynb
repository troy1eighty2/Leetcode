{
 "cells": [
  {
   "cell_type": "markdown",
   "metadata": {},
   "source": [
    "**Problem:**\n",
    "Given int array `nums` return answer `array` such that `answer[i]` is equal to product of all elements excluding `nums[i]`\n",
    "\n",
    "Must be O(n)\n",
    "\n",
    "**Approach:**\n",
    "- Iterate left -> right multiplying `answer[i]` by prefix\n",
    "- Iterate right -> multiplying `answer[i]` by postfix\n",
    "1. Update set `answer[i]`\n",
    "2. Update prefix\n",
    "\n",
    "**TC/SC**\n",
    "O(n)/O(1)\n",
    "- iterating thru `nums` takes n time, which is done multiple times\n",
    "- input array and answer array don't cout as extra space, therefore constant SC"
   ]
  },
  {
   "cell_type": "code",
   "execution_count": null,
   "metadata": {},
   "outputs": [],
   "source": [
    "class Solution:\n",
    "    def productExceptSelf(self, nums: List[int]) -> List[int]:\n",
    "        res = [1] * len(nums)\n",
    "        prefix = 1\n",
    "        for n in range(len(nums)):\n",
    "            res[n] *= prefix\n",
    "            prefix *= nums[n]\n",
    "        prefix = 1\n",
    "        for n in range(len(nums) - 1, -1, -1):\n",
    "            res[n] *= prefix\n",
    "            prefix *= nums[n]\n",
    "        return res"
   ]
  }
 ],
 "metadata": {
  "language_info": {
   "name": "python"
  },
  "orig_nbformat": 4
 },
 "nbformat": 4,
 "nbformat_minor": 2
}
