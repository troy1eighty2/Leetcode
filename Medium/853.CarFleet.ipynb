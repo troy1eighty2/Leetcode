{
 "cells": [
  {
   "cell_type": "markdown",
   "metadata": {},
   "source": [
    "**Problem:**\n",
    "Given two arrys, one for `speed` and one for `position`, identify the number of fleets upon arrival at a `target` number of miles away.\n",
    "\n",
    "**Approach:**\n",
    "1. combine `speed` and `position` with `zip(position, speed)`. make them list pairs instead of tuple pairs with list comprehension\n",
    "2. for each element, append it stack\n",
    "3. if `len(stack) >= 2`, meaning there are cars to consider for collision, AND the top of the stack (closest to target)'s speed is less than that of second top of stack, pop the first car\n",
    "4. return the `len(stack)` which is the # of car fleets\n",
    "\n",
    "- evaluate from the reverse sorted position because the speed of the car ahead could change more than once\n",
    "\n",
    "**TC/SC:**\n",
    "O(nlogn)/O(n)\n",
    "- time to zip and create `pair` is O(n)\n",
    "- time it takes to sort is O(nlogn)\n",
    "- stack ops take O(1)\n",
    "\n",
    "- pair is of length O(n)\n",
    "- stack is of length O(n)"
   ]
  },
  {
   "cell_type": "code",
   "execution_count": null,
   "metadata": {},
   "outputs": [],
   "source": [
    "class Solution:\n",
    "    def carFleet(self, target: int, position: List[int], speed: List[int]) -> int:\n",
    "        pair = [[p, s] for p, s in zip(position, speed)]\n",
    "        sortedPair = sorted(pair, reverse = True)\n",
    "        stack = []\n",
    "        for n, m in sortedPair:\n",
    "            stack.append((target - n)/m)\n",
    "            if len(stack) >= 2 and stack[-1] <= stack[-2]:\n",
    "                stack.pop()\n",
    "        return len(stack)"
   ]
  }
 ],
 "metadata": {
  "language_info": {
   "name": "python"
  },
  "orig_nbformat": 4
 },
 "nbformat": 4,
 "nbformat_minor": 2
}
