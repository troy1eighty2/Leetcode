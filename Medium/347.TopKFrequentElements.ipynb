{
 "cells": [
  {
   "cell_type": "markdown",
   "metadata": {},
   "source": [
    "**Problem:**\n",
    "Given int array `nums` and integer `k`, return `k` most frequent elements\n",
    "\n",
    "**Approach:**\n",
    "- `Counter(nums)`\n",
    "- sort by dict val\n",
    "\n",
    "**TC/SC**\n",
    "O(nlogn + k)/O(n + k)\n",
    "- sorting `nums` takes nlogn\n",
    "- k is the returning of `k` elements\n",
    "\n",
    "- length of `Counter(nums)`\n",
    "- length of res which will be `k`"
   ]
  },
  {
   "cell_type": "code",
   "execution_count": null,
   "metadata": {},
   "outputs": [],
   "source": [
    "class Solution:\n",
    "    def topKFrequent(self, nums: List[int], k: int) -> List[int]:\n",
    "        count = Counter(nums)\n",
    "        sorted_count = sorted(count.items(), key = lambda item: item[1], reverse = True)\n",
    "        res = []\n",
    "        for n in range(k):\n",
    "            res.append((sorted_count[n])[0])\n",
    "        return res"
   ]
  }
 ],
 "metadata": {
  "language_info": {
   "name": "python"
  },
  "orig_nbformat": 4
 },
 "nbformat": 4,
 "nbformat_minor": 2
}
