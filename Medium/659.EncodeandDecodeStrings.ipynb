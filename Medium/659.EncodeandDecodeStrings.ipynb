{
 "cells": [
  {
   "cell_type": "markdown",
   "metadata": {},
   "source": [
    "**Problem:**\n",
    "Implement the decoding and encoding of a list of strings\n",
    "\n",
    "**Approach:**\n",
    "- for n in nums encode the beginning of each word with `len(n)` + '/' and add to res string\n",
    "- `deque(strs)` and `popleft()` n number of times with n being the encoded n at the beginning of the string and append to res array\n",
    "\n",
    "**TC/SC:**\n",
    "O(n, k)/O(1, n + k + m)\n",
    "- in encode, iteration thru `strs` array is O(n)\n",
    "- in decode, deque is O(1), `while q:` is O(k)\n",
    "\n",
    "- in encode, output doesn't count as extra space\n",
    "- in decode, deque space depends on `len(strs)` is O(n), res list depends on k strings to be decoded, each word is `len(k)`, or m long"
   ]
  },
  {
   "cell_type": "code",
   "execution_count": null,
   "metadata": {},
   "outputs": [],
   "source": [
    "from collections import deque\n",
    "class Solution:\n",
    "    def encode(self, strs):\n",
    "        res = \"\"\n",
    "        for n in strs:\n",
    "            res = res + str(len(n)) + n\n",
    "        return res\n",
    "    def decode(self, str):\n",
    "        q = deque(str)\n",
    "        res = []\n",
    "        word = \"\"\n",
    "        while q:\n",
    "            n = int(popleft(q))\n",
    "            for m in range(n):\n",
    "                word = word + popleft(q)\n",
    "            res.append(word)\n",
    "            word = \"\"\n",
    "        return res"
   ]
  }
 ],
 "metadata": {
  "language_info": {
   "name": "python"
  },
  "orig_nbformat": 4
 },
 "nbformat": 4,
 "nbformat_minor": 2
}
