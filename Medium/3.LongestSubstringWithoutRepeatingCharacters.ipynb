{
 "cells": [
  {
   "cell_type": "markdown",
   "metadata": {},
   "source": [
    "**Problem**\n",
    "Given string `s` find the length of the longest substring without repeating characters\n",
    "\n",
    "**Approach:**\n",
    "- keep a `res` value to capture longest length of substring so far\n",
    "- sliding window iteration thru string `s`\n",
    "    - if exists in map, iterate left pointer += 1 until repeating char is gone from sliding window\n",
    "    - else, add right pointer char to set\n",
    "\n",
    "**TC/SC:**\n",
    "O(n)/O(n)\n",
    "- iterating thru every value of string `s` once\n",
    "\n",
    "- set with possible length of `len(s)` created\n"
   ]
  },
  {
   "cell_type": "code",
   "execution_count": null,
   "metadata": {},
   "outputs": [],
   "source": [
    "class Solution:\n",
    "    def lengthOfLongestSubstring(self, s: str) -> int:\n",
    "        res = 0\n",
    "        map = set()\n",
    "        l = 0\n",
    "        for r in range(len(s)):\n",
    "            while s[r] in map:\n",
    "                map.remove(s[l])\n",
    "                l += 1\n",
    "            map.add(s[r])\n",
    "            res = max(res, r - l + 1)\n",
    "        return res"
   ]
  }
 ],
 "metadata": {
  "language_info": {
   "name": "python"
  }
 },
 "nbformat": 4,
 "nbformat_minor": 2
}
