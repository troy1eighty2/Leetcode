{
 "cells": [
  {
   "cell_type": "markdown",
   "metadata": {},
   "source": [
    "**Problem**\n",
    "There are `n` piles of bananas. Find the min nums of bananas eaten to get as close to `h` hours as possible without going over.\n",
    "\n",
    "**Approach:**\n",
    "- bsearch a range between 1 and max num bananas, if m results in num of hours less than h, find `min(res, k)` and decrement r pointer to left to try to get an even smaller `k` value, else, increment l pointer to the right\n",
    "\n",
    "**TC/SC:**\n",
    "O(logn*k)/O(1)\n",
    "- bsearch of `range(1, max(piles))` with an iteration over piles nested inside O(logn*k)\n",
    "\n",
    "- no need space created"
   ]
  },
  {
   "cell_type": "code",
   "execution_count": null,
   "metadata": {},
   "outputs": [],
   "source": [
    "class Solution:\n",
    "    def minEatingSpeed(self, piles: List[int], h: int) -> int:\n",
    "        l, r = 1, max(piles)\n",
    "        res = r\n",
    "\n",
    "        while l <= r:\n",
    "            m = (l + r) // 2\n",
    "            hours = 0\n",
    "            for x in piles:\n",
    "                hours += math.ceil(x / m)\n",
    "            \n",
    "            if hours <= h:\n",
    "                res = min(res, m)\n",
    "                r = m - 1\n",
    "            else:\n",
    "                l = m + 1\n",
    "        return res"
   ]
  }
 ],
 "metadata": {
  "language_info": {
   "name": "python"
  }
 },
 "nbformat": 4,
 "nbformat_minor": 2
}
